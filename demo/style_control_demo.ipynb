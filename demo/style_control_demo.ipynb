{
 "cells": [
  {
   "cell_type": "code",
   "execution_count": 1,
   "metadata": {
    "ExecuteTime": {
     "end_time": "2023-11-27T12:19:40.547935500Z",
     "start_time": "2023-11-27T12:19:37.020154Z"
    },
    "tags": []
   },
   "outputs": [
    {
     "name": "stderr",
     "output_type": "stream",
     "text": [
      "Using /root/.cache/torch_extensions/py38_cu118 as PyTorch extensions root...\n",
      "Detected CUDA files, patching ldflags\n",
      "Emitting ninja build file /root/.cache/torch_extensions/py38_cu118/wkv_cuda/build.ninja...\n",
      "Building extension module wkv_cuda...\n",
      "Allowing ninja to set a default number of workers... (overridable by setting the environment variable MAX_JOBS=N)\n",
      "Loading extension module wkv_cuda...\n"
     ]
    },
    {
     "name": "stdout",
     "output_type": "stream",
     "text": [
      "ninja: no work to do.\n"
     ]
    }
   ],
   "source": [
    "import os\n",
    "import sys\n",
    "\n",
    "current_dir = os.getcwd()\n",
    "parent_parent_dir = os.path.abspath(os.path.join(current_dir, \"../eval\", \"..\"))\n",
    "sys.path.append(parent_parent_dir)\n",
    "\n",
    "from state_control.controllable_rwkv import VectorControlRWKV, ContrastControlRWKV\n",
    "import ipywidgets as widgets\n",
    "from IPython.display import display"
   ]
  },
  {
   "cell_type": "code",
   "execution_count": 2,
   "metadata": {
    "ExecuteTime": {
     "end_time": "2023-11-27T12:19:40.562943700Z",
     "start_time": "2023-11-27T12:19:40.547935500Z"
    },
    "collapsed": false,
    "jupyter": {
     "outputs_hidden": false
    },
    "tags": []
   },
   "outputs": [],
   "source": [
    "MODEL_PATH = r'../../models/RWKV-5-World-3B-v2-20231113-ctx4096'"
   ]
  },
  {
   "cell_type": "code",
   "execution_count": 3,
   "metadata": {
    "ExecuteTime": {
     "end_time": "2023-11-27T12:19:52.658432600Z",
     "start_time": "2023-11-27T12:19:40.563944600Z"
    },
    "collapsed": false,
    "jupyter": {
     "outputs_hidden": false
    },
    "tags": []
   },
   "outputs": [
    {
     "name": "stdout",
     "output_type": "stream",
     "text": [
      "RWKV_JIT_ON 1 RWKV_CUDA_ON 1 RESCALE_LAYER 6\n",
      "\n",
      "Loading ../../models/RWKV-5-World-3B-v2-20231113-ctx4096.pth ...\n",
      "Strategy: (total 32+1=33 layers)\n",
      "* cuda [float16, float16], store 33 layers\n",
      "0-cuda-float16-float16 1-cuda-float16-float16 2-cuda-float16-float16 3-cuda-float16-float16 4-cuda-float16-float16 5-cuda-float16-float16 6-cuda-float16-float16 7-cuda-float16-float16 8-cuda-float16-float16 9-cuda-float16-float16 10-cuda-float16-float16 11-cuda-float16-float16 12-cuda-float16-float16 13-cuda-float16-float16 14-cuda-float16-float16 15-cuda-float16-float16 16-cuda-float16-float16 17-cuda-float16-float16 18-cuda-float16-float16 19-cuda-float16-float16 20-cuda-float16-float16 21-cuda-float16-float16 22-cuda-float16-float16 23-cuda-float16-float16 24-cuda-float16-float16 25-cuda-float16-float16 26-cuda-float16-float16 27-cuda-float16-float16 28-cuda-float16-float16 29-cuda-float16-float16 30-cuda-float16-float16 31-cuda-float16-float16 32-cuda-float16-float16 \n",
      "emb.weight                        f16      cpu  65536  2560 \n",
      "blocks.0.ln1.weight               f16   cuda:0   2560       \n",
      "blocks.0.ln1.bias                 f16   cuda:0   2560       \n",
      "blocks.0.ln2.weight               f16   cuda:0   2560       \n",
      "blocks.0.ln2.bias                 f16   cuda:0   2560       \n",
      "blocks.0.att.time_mix_k           f16   cuda:0   2560       \n",
      "blocks.0.att.time_mix_v           f16   cuda:0   2560       \n",
      "blocks.0.att.time_mix_r           f16   cuda:0   2560       \n",
      "blocks.0.att.time_mix_g           f16   cuda:0   2560       \n",
      "blocks.0.att.time_decay           f32   cuda:0     40    64 \n",
      "blocks.0.att.time_first           f32   cuda:0     40    64 \n",
      "blocks.0.att.receptance.weight    f16   cuda:0   2560  2560 \n",
      "blocks.0.att.key.weight           f16   cuda:0   2560  2560 \n",
      "blocks.0.att.value.weight         f16   cuda:0   2560  2560 \n",
      "blocks.0.att.output.weight        f16   cuda:0   2560  2560 \n",
      "blocks.0.att.gate.weight          f16   cuda:0   2560  2560 \n",
      "blocks.0.att.ln_x.weight          f32   cuda:0   2560       \n",
      "blocks.0.att.ln_x.bias            f32   cuda:0   2560       \n",
      "blocks.0.ffn.time_mix_k           f16   cuda:0   2560       \n",
      "blocks.0.ffn.time_mix_r           f16   cuda:0   2560       \n",
      "blocks.0.ffn.key.weight           f16   cuda:0   2560  8960 \n",
      "blocks.0.ffn.receptance.weight    f16   cuda:0   2560  2560 \n",
      "blocks.0.ffn.value.weight         f16   cuda:0   8960  2560 \n",
      "....................................................................................................................................................................................................................................................................................................................................................................................................................................................................................................................................................................................................................................................................................\n",
      "blocks.31.ln1.weight              f16   cuda:0   2560       \n",
      "blocks.31.ln1.bias                f16   cuda:0   2560       \n",
      "blocks.31.ln2.weight              f16   cuda:0   2560       \n",
      "blocks.31.ln2.bias                f16   cuda:0   2560       \n",
      "blocks.31.att.time_mix_k          f16   cuda:0   2560       \n",
      "blocks.31.att.time_mix_v          f16   cuda:0   2560       \n",
      "blocks.31.att.time_mix_r          f16   cuda:0   2560       \n",
      "blocks.31.att.time_mix_g          f16   cuda:0   2560       \n",
      "blocks.31.att.time_decay          f32   cuda:0     40    64 \n",
      "blocks.31.att.time_first          f32   cuda:0     40    64 \n",
      "blocks.31.att.receptance.weight   f16   cuda:0   2560  2560 \n",
      "blocks.31.att.key.weight          f16   cuda:0   2560  2560 \n",
      "blocks.31.att.value.weight        f16   cuda:0   2560  2560 \n",
      "blocks.31.att.output.weight       f16   cuda:0   2560  2560 \n",
      "blocks.31.att.gate.weight         f16   cuda:0   2560  2560 \n",
      "blocks.31.att.ln_x.weight         f32   cuda:0   2560       \n",
      "blocks.31.att.ln_x.bias           f32   cuda:0   2560       \n",
      "blocks.31.ffn.time_mix_k          f16   cuda:0   2560       \n",
      "blocks.31.ffn.time_mix_r          f16   cuda:0   2560       \n",
      "blocks.31.ffn.key.weight          f16   cuda:0   2560  8960 \n",
      "blocks.31.ffn.receptance.weight   f16   cuda:0   2560  2560 \n",
      "blocks.31.ffn.value.weight        f16   cuda:0   8960  2560 \n",
      "ln_out.weight                     f16   cuda:0   2560       \n",
      "ln_out.bias                       f16   cuda:0   2560       \n",
      "head.weight                       f16   cuda:0   2560 65536 \n"
     ]
    },
    {
     "name": "stderr",
     "output_type": "stream",
     "text": [
      "Using /root/.cache/torch_extensions/py38_cu118 as PyTorch extensions root...\n",
      "Detected CUDA files, patching ldflags\n",
      "Emitting ninja build file /root/.cache/torch_extensions/py38_cu118/rwkv5/build.ninja...\n",
      "Building extension module rwkv5...\n",
      "Allowing ninja to set a default number of workers... (overridable by setting the environment variable MAX_JOBS=N)\n",
      "Loading extension module rwkv5...\n"
     ]
    },
    {
     "name": "stdout",
     "output_type": "stream",
     "text": [
      "ninja: no work to do.\n"
     ]
    }
   ],
   "source": [
    "model = VectorControlRWKV(MODEL_PATH)"
   ]
  },
  {
   "cell_type": "markdown",
   "metadata": {},
   "source": [
    "### Language Control Demo\n",
    "##### Here, we demonstrate the model's capability to control the generated language (Chinese/English) using directional vectors."
   ]
  },
  {
   "cell_type": "markdown",
   "metadata": {},
   "source": [
    "First, we construct pairs of prompt words that have the same meaning but are in different languages, providing the model with directions towards various languages."
   ]
  },
  {
   "cell_type": "code",
   "execution_count": 99,
   "metadata": {
    "ExecuteTime": {
     "end_time": "2023-11-27T12:19:52.673442700Z",
     "start_time": "2023-11-27T12:19:52.660433300Z"
    },
    "collapsed": false,
    "jupyter": {
     "outputs_hidden": false
    },
    "tags": []
   },
   "outputs": [],
   "source": [
    "pos_str_list = ['这是一个句子', '这句话可以是没有任何意义的']\n",
    "neg_str_list = ['Here is a sentence', 'This sentence can be meaningless.']"
   ]
  },
  {
   "cell_type": "markdown",
   "metadata": {},
   "source": [
    "Tokenize the sentences and then update the control vectors."
   ]
  },
  {
   "cell_type": "code",
   "execution_count": 100,
   "metadata": {
    "ExecuteTime": {
     "end_time": "2023-11-27T12:19:58.668768200Z",
     "start_time": "2023-11-27T12:19:52.673442700Z"
    },
    "collapsed": false,
    "jupyter": {
     "outputs_hidden": false
    },
    "tags": []
   },
   "outputs": [],
   "source": [
    "pos_ids_list = [model.tokenizer.encode(x) for x in pos_str_list]\n",
    "neg_ids_list = [model.tokenizer.encode(x) for x in neg_str_list]\n",
    "\n",
    "model.update(pos_ids_list, neg_ids_list)"
   ]
  },
  {
   "cell_type": "markdown",
   "metadata": {},
   "source": [
    "We create a slider to easily adjust the value of the control factor.\n",
    "You can adjust the slider to see how the control effect changes."
   ]
  },
  {
   "cell_type": "code",
   "execution_count": 101,
   "metadata": {
    "ExecuteTime": {
     "end_time": "2023-11-27T12:19:58.682771300Z",
     "start_time": "2023-11-27T12:19:58.668768200Z"
    },
    "collapsed": false,
    "jupyter": {
     "outputs_hidden": false
    },
    "tags": []
   },
   "outputs": [
    {
     "data": {
      "application/vnd.jupyter.widget-view+json": {
       "model_id": "07263ffe7c3f4929810a374db031a016",
       "version_major": 2,
       "version_minor": 0
      },
      "text/plain": [
       "FloatSlider(value=0.0, description='Coeff:', max=1.5, min=-1.2, step=0.01)"
      ]
     },
     "metadata": {},
     "output_type": "display_data"
    }
   ],
   "source": [
    "language_control_slider = widgets.FloatSlider(\n",
    "    value=0,\n",
    "    min=-1.2,\n",
    "    max=1.5,\n",
    "    step=0.01,\n",
    "    description='Coeff:',\n",
    "    orientation='horizontal',\n",
    ")\n",
    "\n",
    "display(language_control_slider)"
   ]
  },
  {
   "cell_type": "code",
   "execution_count": 104,
   "metadata": {
    "ExecuteTime": {
     "end_time": "2023-11-27T12:20:01.965658900Z",
     "start_time": "2023-11-27T12:19:58.683771600Z"
    },
    "collapsed": false,
    "jupyter": {
     "outputs_hidden": false
    },
    "tags": []
   },
   "outputs": [
    {
     "name": "stdout",
     "output_type": "stream",
     "text": [
      " 一个小男孩，他的名字叫做小明，他非常喜欢玩游戏。他的父母都是游戏迷，他们经常带他去游戏厅玩游戏。小\n"
     ]
    }
   ],
   "source": [
    "test_input = \"\\nHere is a story:\"\n",
    "\n",
    "input_ids = model.tokenizer.encode(test_input)\n",
    "output_ids = model.generate(input_ids, control_coeff=language_control_slider.value, max_length=50, top_k=1)\n",
    "print(model.tokenizer.decode(output_ids))"
   ]
  },
  {
   "cell_type": "markdown",
   "metadata": {},
   "source": [
    "You can try both from English to Chinese and from Chinese to English"
   ]
  },
  {
   "cell_type": "code",
   "execution_count": 8,
   "metadata": {
    "ExecuteTime": {
     "end_time": "2023-11-26T10:54:12.836449600Z",
     "start_time": "2023-11-26T10:54:11.452564700Z"
    },
    "collapsed": false,
    "jupyter": {
     "outputs_hidden": false
    },
    "tags": []
   },
   "outputs": [
    {
     "name": "stdout",
     "output_type": "stream",
     "text": [
      "一只小猫咪\n",
      "在一个小村庄里\n",
      "它喜欢玩耍\n",
      "和小朋友们一起\n",
      "它们一起玩耍\n",
      "在草地上奔跑\n",
      "在树林里追逐\n",
      "小\n"
     ]
    }
   ],
   "source": [
    "test_input = \"\\n下面是一个儿童故事\\n\"\n",
    "\n",
    "input_ids = model.tokenizer.encode(test_input)\n",
    "output_ids = model.generate(input_ids, control_coeff=language_control_slider.value, max_length=50, top_k=1)\n",
    "print(model.tokenizer.decode(output_ids))"
   ]
  },
  {
   "cell_type": "markdown",
   "metadata": {},
   "source": [
    "### output format control\n",
    "##### Next, we will show how to manipulate the model's output format to output content in Python list."
   ]
  },
  {
   "cell_type": "code",
   "execution_count": 105,
   "metadata": {
    "ExecuteTime": {
     "end_time": "2023-11-27T12:27:23.437067200Z",
     "start_time": "2023-11-27T12:27:23.416063200Z"
    },
    "collapsed": false,
    "jupyter": {
     "outputs_hidden": false
    },
    "tags": []
   },
   "outputs": [],
   "source": [
    "neg_str_list = [\n",
    "    \"The cat sat on the mat.\",\n",
    "    \"It is raining heavily outside.\",\n",
    "    \"Learning new languages can be fun and challenging.\",\n",
    "    \"Space exploration offers great opportunities for scientific advancement.\",\n",
    "    \"Healthy eating contributes to overall wellness.\"\n",
    "]\n",
    "\n",
    "pos_str_list = [\n",
    "    \"['The', 'cat', 'sat', 'on', 'the', 'mat.']\",\n",
    "    \"['It', 'is', 'raining', 'heavily', 'outside.']\",\n",
    "    \"['Learning', 'new', 'languages', 'can', 'be', 'fun', 'and', 'challenging.']\",\n",
    "    \"['Space', 'exploration', 'offers', 'great', 'opportunities', 'for', 'scientific', 'advancement.']\",\n",
    "    \"['Healthy', 'eating', 'contributes', 'to', 'overall', 'wellness.']\"\n",
    "]"
   ]
  },
  {
   "cell_type": "code",
   "execution_count": 106,
   "metadata": {
    "ExecuteTime": {
     "end_time": "2023-11-27T12:27:25.804895100Z",
     "start_time": "2023-11-27T12:27:23.665307700Z"
    },
    "collapsed": false,
    "jupyter": {
     "outputs_hidden": false
    },
    "tags": []
   },
   "outputs": [],
   "source": [
    "pos_ids_list = [model.tokenizer.encode(x) for x in pos_str_list]\n",
    "neg_ids_list = [model.tokenizer.encode(x) for x in neg_str_list]\n",
    "\n",
    "model.update(pos_ids_list, neg_ids_list)"
   ]
  },
  {
   "cell_type": "code",
   "execution_count": 115,
   "metadata": {
    "ExecuteTime": {
     "end_time": "2023-11-27T12:27:25.820899200Z",
     "start_time": "2023-11-27T12:27:25.807896800Z"
    },
    "collapsed": false,
    "jupyter": {
     "outputs_hidden": false
    },
    "tags": []
   },
   "outputs": [
    {
     "data": {
      "application/vnd.jupyter.widget-view+json": {
       "model_id": "14d5a09fae334ae88cab4a1272bcd247",
       "version_major": 2,
       "version_minor": 0
      },
      "text/plain": [
       "FloatSlider(value=0.0, description='Coeff:', max=2.0, step=0.01)"
      ]
     },
     "metadata": {},
     "output_type": "display_data"
    }
   ],
   "source": [
    "control_slider = widgets.FloatSlider(\n",
    "    value=0,\n",
    "    min=0.,\n",
    "    max=2.0,\n",
    "    step=0.01,\n",
    "    description='Coeff:',\n",
    "    orientation='horizontal',\n",
    ")\n",
    "\n",
    "display(control_slider)"
   ]
  },
  {
   "cell_type": "markdown",
   "metadata": {},
   "source": [
    "Adjust the slider to see how the control effect changes."
   ]
  },
  {
   "cell_type": "code",
   "execution_count": 117,
   "metadata": {
    "ExecuteTime": {
     "end_time": "2023-11-27T12:32:54.183434600Z",
     "start_time": "2023-11-27T12:32:52.069635900Z"
    },
    "collapsed": false,
    "jupyter": {
     "outputs_hidden": false
    },
    "tags": []
   },
   "outputs": [
    {
     "name": "stdout",
     "output_type": "stream",
     "text": [
      " ['Albert', 'Einstein', 'Isaac', 'Newton', 'Max', 'Planck', 'Albert', 'Schrödinger', 'Erwin', 'Friedrich', 'Heisenberg', 'Niels', 'Bo\n"
     ]
    }
   ],
   "source": [
    "test_input = \"\\nUser: List 10 well-known physicists.\\n\\nAssistant:\"\n",
    "\n",
    "input_ids = model.tokenizer.encode(test_input)\n",
    "output_ids = model.generate(input_ids, control_coeff=control_slider.value, max_length=50, top_k=1)\n",
    "print(model.tokenizer.decode(output_ids))"
   ]
  },
  {
   "cell_type": "markdown",
   "metadata": {},
   "source": [
    "### Control of Emotion in Model Output\n",
    "##### Next, we show how we control the emotions in the model."
   ]
  },
  {
   "cell_type": "code",
   "execution_count": 64,
   "metadata": {
    "ExecuteTime": {
     "end_time": "2023-11-26T10:54:17.420335800Z",
     "start_time": "2023-11-26T10:54:17.374324900Z"
    },
    "collapsed": false,
    "jupyter": {
     "outputs_hidden": false
    },
    "tags": []
   },
   "outputs": [],
   "source": [
    "pos_str_list = [\n",
    "    \"Question: How was your day?\\n\\nAnswer: It was fantastic, full of exciting opportunities!\",\n",
    "    \"Question: Did you enjoy your meal?\\n\\nAnswer: Absolutely, it was delicious and satisfying!\",\n",
    "    \"Question: Are you looking forward to the weekend?\\n\\nAnswer: Definitely, I have so many fun plans!\",\n",
    "    \"Question: How do you feel about your job?\\n\\nAnswer: I love it, it's challenging and rewarding!\",\n",
    "    \"Question: Did you like the movie?\\n\\nAnswer: Yes, it was entertaining and thought-provoking!\",\n",
    "    \"Question: How's the weather today?\\n\\nAnswer: It's lovely, sunny and warm!\",\n",
    "    \"Question: Are you happy with your new phone?\\n\\nAnswer: Absolutely, it has amazing features!\",\n",
    "    \"Question: Did you enjoy your vacation?\\n\\nAnswer: Yes, it was relaxing and fun!\",\n",
    "    \"Question: How do you feel about the future?\\n\\nAnswer: I'm optimistic, there are so many possibilities!\",\n",
    "    \"Question: Are you satisfied with your current living situation?\\n\\nAnswer: Yes, I'm very comfortable and content!\"\n",
    "]\n",
    "\n",
    "neg_str_list = [\n",
    "    \"Question: How was your day?\\n\\nAnswer: It was terrible, nothing went right.\",\n",
    "    \"Question: Did you enjoy your meal?\\n\\nAnswer: Not at all, it was bland and unappetizing.\",\n",
    "    \"Question: Are you looking forward to the weekend?\\n\\nAnswer: Not really, I have nothing interesting to do.\",\n",
    "    \"Question: How do you feel about your job?\\n\\nAnswer: I dislike it, it's stressful and unrewarding.\",\n",
    "    \"Question: Did you like the movie?\\n\\nAnswer: No, it was boring and poorly made.\",\n",
    "    \"Question: How's the weather today?\\n\\nAnswer: It's dreadful, cold and rainy.\",\n",
    "    \"Question: Are you happy with your new phone?\\n\\nAnswer: Not at all, it's complicated and glitchy.\",\n",
    "    \"Question: Did you enjoy your vacation?\\n\\nAnswer: No, it was stressful and unenjoyable.\",\n",
    "    \"Question: How do you feel about the future?\\n\\nAnswer: I'm pessimistic, things seem uncertain and scary.\",\n",
    "    \"Question: Are you satisfied with your current living situation?\\n\\nAnswer: No, I'm unhappy and looking for a change.\"\n",
    "]"
   ]
  },
  {
   "cell_type": "code",
   "execution_count": 65,
   "metadata": {
    "ExecuteTime": {
     "end_time": "2023-11-26T10:54:18.858837200Z",
     "start_time": "2023-11-26T10:54:17.390330500Z"
    },
    "collapsed": false,
    "jupyter": {
     "outputs_hidden": false
    },
    "tags": []
   },
   "outputs": [],
   "source": [
    "pos_ids_list = [model.tokenizer.encode(x) for x in pos_str_list]\n",
    "neg_ids_list = [model.tokenizer.encode(x) for x in neg_str_list]\n",
    "\n",
    "model.update(pos_ids_list, neg_ids_list)"
   ]
  },
  {
   "cell_type": "code",
   "execution_count": 66,
   "metadata": {
    "ExecuteTime": {
     "end_time": "2023-11-26T10:54:18.874839500Z",
     "start_time": "2023-11-26T10:54:18.855836100Z"
    },
    "collapsed": false,
    "jupyter": {
     "outputs_hidden": false
    },
    "tags": []
   },
   "outputs": [
    {
     "data": {
      "application/vnd.jupyter.widget-view+json": {
       "model_id": "833f402d83c14fec815d0b306c59f897",
       "version_major": 2,
       "version_minor": 0
      },
      "text/plain": [
       "FloatSlider(value=0.0, description='Coeff:', max=1.0, min=-1.0, step=0.01)"
      ]
     },
     "metadata": {},
     "output_type": "display_data"
    }
   ],
   "source": [
    "control_slider = widgets.FloatSlider(\n",
    "    value=0,\n",
    "    min=-1.0,\n",
    "    max=1.0,\n",
    "    step=0.01,\n",
    "    description='Coeff:',\n",
    "    orientation='horizontal',\n",
    ")\n",
    "\n",
    "display(control_slider)"
   ]
  },
  {
   "cell_type": "markdown",
   "metadata": {},
   "source": [
    "Adjust the slider to see how the control effect changes."
   ]
  },
  {
   "cell_type": "code",
   "execution_count": 98,
   "metadata": {
    "ExecuteTime": {
     "end_time": "2023-11-26T10:54:33.432699800Z",
     "start_time": "2023-11-26T10:54:31.981195400Z"
    },
    "collapsed": false,
    "jupyter": {
     "outputs_hidden": false
    },
    "tags": []
   },
   "outputs": [
    {
     "name": "stdout",
     "output_type": "stream",
     "text": [
      " is not good.\n",
      "I'm not in the mood to be nice.\n",
      "I'm not in the mood to be nice.\n",
      "I'm not in the mood to be nice.\n",
      "I'm not in the mood to be nice.\n",
      "I\n"
     ]
    }
   ],
   "source": [
    "test_input = \"\\nMy mood\"\n",
    "\n",
    "input_ids = model.tokenizer.encode(test_input)\n",
    "output_ids = model.generate(input_ids, control_coeff=control_slider.value, max_length=50, top_k=1)\n",
    "print(model.tokenizer.decode(output_ids))"
   ]
  },
  {
   "cell_type": "code",
   "execution_count": null,
   "metadata": {
    "collapsed": false,
    "jupyter": {
     "outputs_hidden": false
    }
   },
   "outputs": [],
   "source": []
  }
 ],
 "metadata": {
  "kernelspec": {
   "display_name": "Python 3 (ipykernel)",
   "language": "python",
   "name": "python3"
  },
  "language_info": {
   "codemirror_mode": {
    "name": "ipython",
    "version": 3
   },
   "file_extension": ".py",
   "mimetype": "text/x-python",
   "name": "python",
   "nbconvert_exporter": "python",
   "pygments_lexer": "ipython3",
   "version": "3.8.10"
  }
 },
 "nbformat": 4,
 "nbformat_minor": 4
}
